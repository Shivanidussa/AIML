{
 "cells": [
  {
   "cell_type": "markdown",
   "id": "ea555ae6",
   "metadata": {},
   "source": [
    "# Literals "
   ]
  },
  {
   "cell_type": "code",
   "execution_count": null,
   "id": "779c04c6",
   "metadata": {},
   "outputs": [],
   "source": [
    "print('Im AI engineer')"
   ]
  },
  {
   "cell_type": "code",
   "execution_count": null,
   "id": "d57a6ffb",
   "metadata": {},
   "outputs": [],
   "source": [
    "user1 = 'Madhu'\n",
    "user2 = \"Mukesh\"\n",
    "A1 = 78.5\n",
    "A2 = 0\n",
    "print('Hello!',user1,'This is ur current balance:',A1)\n",
    "print('welcome sir! u have no balance:',A2)\n",
    "B1 = 90000\n",
    "A2 = B1\n",
    "print(user2,'has',A2,'of bank balance')\n",
    "kotakmahindra_bank = A1 + A2\n",
    "print(kotakmahindra_bank,'has total amount...')\n",
    "print(user1,'have',A1,'of bank balance')\n",
    "print(user2,'have',A2,'of bnak balance')"
   ]
  },
  {
   "cell_type": "markdown",
   "id": "68963b75",
   "metadata": {},
   "source": [
    "# Identifiers(variables)"
   ]
  },
  {
   "cell_type": "code",
   "execution_count": null,
   "id": "d31a7e57",
   "metadata": {},
   "outputs": [],
   "source": [
    "#variables are holding c=values what we given \n",
    "#A variable must start with letter or the underscore character \n",
    "#A vraiable can contain alpha-numeric character \n",
    "#variables are case sensitive"
   ]
  },
  {
   "cell_type": "code",
   "execution_count": null,
   "id": "c4adf9da",
   "metadata": {},
   "outputs": [],
   "source": [
    "shivani = 96"
   ]
  },
  {
   "cell_type": "code",
   "execution_count": null,
   "id": "e65dea7d",
   "metadata": {},
   "outputs": [],
   "source": [
    "9 = u"
   ]
  },
  {
   "cell_type": "code",
   "execution_count": null,
   "id": "e028ec03",
   "metadata": {},
   "outputs": [],
   "source": [
    "_fun = 8\n",
    "_10 = 7"
   ]
  },
  {
   "cell_type": "markdown",
   "id": "dbc914de",
   "metadata": {},
   "source": [
    "# Operators"
   ]
  },
  {
   "cell_type": "code",
   "execution_count": null,
   "id": "d9d433ae",
   "metadata": {},
   "outputs": [],
   "source": [
    "a = 90\n",
    "b = 8\n",
    "a * b\n",
    "a//b\n",
    "a+b\n",
    "a-b\n",
    "b//a\n",
    "a % b"
   ]
  },
  {
   "cell_type": "code",
   "execution_count": null,
   "id": "aae18c70",
   "metadata": {},
   "outputs": [],
   "source": [
    "#2x+3y\n",
    "x = 8\n",
    "y = 5\n",
    "row = 2*x + 3*y\n",
    "print(row)"
   ]
  },
  {
   "cell_type": "code",
   "execution_count": null,
   "id": "ae58234e",
   "metadata": {},
   "outputs": [],
   "source": [
    "yuvansh = 85\n",
    "yuvika = 670\n",
    "print(yuvansh * yuvika)"
   ]
  },
  {
   "cell_type": "code",
   "execution_count": null,
   "id": "3bb41530",
   "metadata": {},
   "outputs": [],
   "source": [
    "#Assignment Operator\n",
    "Tajmahal = ' Tajmahal is located in Agra'\n",
    "miles = 190889\n",
    "iscorrect = True\n",
    "print(Tajmahal,'of',miles,'miles','is',iscorrect)\n"
   ]
  },
  {
   "cell_type": "code",
   "execution_count": null,
   "id": "70586117",
   "metadata": {},
   "outputs": [],
   "source": [
    "# Comparision operators\n",
    "a = 25\n",
    "b = 35\n",
    "c = 100\n",
    "print(\"a=\",a,   ' b =',b, 'c =', c)\n",
    "print(\"a == b:\", a == b)\n",
    "print(\"a != b:\", a != b)\n",
    "print(\"a > b :\", a > b)\n",
    "print(\"c > b :\", c > b)\n",
    "print(\"a < b :\", a < b)\n",
    "print(\"a <= b:\", a <= b)\n",
    "print(\"a >= b:\",  a >= b)"
   ]
  },
  {
   "cell_type": "code",
   "execution_count": null,
   "id": "bff774ee",
   "metadata": {},
   "outputs": [],
   "source": [
    "price = 400\n",
    "frankie = 300\n",
    "if price > frankie:\n",
    "    print('I can buy frankie')\n",
    "else:\n",
    "    print('I cannot frankie')\n",
    "    "
   ]
  },
  {
   "cell_type": "markdown",
   "id": "30998b5c",
   "metadata": {},
   "source": [
    "# Data Types"
   ]
  },
  {
   "cell_type": "code",
   "execution_count": null,
   "id": "5f01e6bf",
   "metadata": {},
   "outputs": [],
   "source": [
    "s = input('x =')\n",
    "v = input('y=')\n",
    "s = input(s)\n",
    "v = input(v)\n",
    "print(row)"
   ]
  },
  {
   "cell_type": "raw",
   "id": "a367ff28",
   "metadata": {},
   "source": [
    "List  ( Mutable )"
   ]
  },
  {
   "cell_type": "code",
   "execution_count": null,
   "id": "30144261",
   "metadata": {},
   "outputs": [],
   "source": [
    "myteam = ['rohit','mayur','panth','yuvaraj','rashid']\n",
    "print(myteam)\n",
    "len(myteam)\n",
    "type(myteam)"
   ]
  },
  {
   "cell_type": "code",
   "execution_count": null,
   "id": "c94146fb",
   "metadata": {},
   "outputs": [],
   "source": [
    "myteam[4][0]"
   ]
  },
  {
   "cell_type": "code",
   "execution_count": null,
   "id": "e22af4e4",
   "metadata": {},
   "outputs": [],
   "source": [
    "myteam.append('Jasprit')\n",
    "print(myteam)"
   ]
  },
  {
   "cell_type": "code",
   "execution_count": null,
   "id": "25e0b568",
   "metadata": {},
   "outputs": [],
   "source": [
    "myteam =  [['rohit','mayur','panth','yuvaraj','rashid'],['christanio','sachin','dhoni']]\n",
    "print(myteam)\n",
    "len(myteam)\n",
    "type(myteam)\n",
    "myteam[1][1]\n",
    "myteam[0][2]"
   ]
  },
  {
   "cell_type": "code",
   "execution_count": null,
   "id": "20b1ea98",
   "metadata": {},
   "outputs": [],
   "source": [
    "myteam.remove('rohit')"
   ]
  },
  {
   "cell_type": "code",
   "execution_count": null,
   "id": "81efd41e",
   "metadata": {},
   "outputs": [],
   "source": [
    "myteam"
   ]
  },
  {
   "cell_type": "markdown",
   "id": "64ef936f",
   "metadata": {},
   "source": [
    "# Tuple"
   ]
  },
  {
   "cell_type": "code",
   "execution_count": null,
   "id": "2228beaa",
   "metadata": {},
   "outputs": [],
   "source": [
    "team1 = ('Rohit', 'Virat', 'Rishabh')\n",
    "print(team1)\n",
    "print(myteam)"
   ]
  },
  {
   "cell_type": "code",
   "execution_count": null,
   "id": "06dbee28",
   "metadata": {},
   "outputs": [],
   "source": [
    "len(team1)\n",
    "type(team1)"
   ]
  },
  {
   "cell_type": "code",
   "execution_count": null,
   "id": "b4157388",
   "metadata": {},
   "outputs": [],
   "source": [
    "team1.append('mayank')"
   ]
  },
  {
   "cell_type": "code",
   "execution_count": null,
   "id": "3e4d02a5",
   "metadata": {},
   "outputs": [],
   "source": [
    "all = tuple(myteam)\n",
    "all"
   ]
  },
  {
   "cell_type": "code",
   "execution_count": null,
   "id": "1fcfa259",
   "metadata": {},
   "outputs": [],
   "source": [
    "al = list(team1)\n",
    "al"
   ]
  },
  {
   "cell_type": "code",
   "execution_count": null,
   "id": "a72297cd",
   "metadata": {},
   "outputs": [],
   "source": [
    "del(myteam[2])    #it skips the value "
   ]
  },
  {
   "cell_type": "code",
   "execution_count": null,
   "id": "47311954",
   "metadata": {},
   "outputs": [],
   "source": [
    "myteam"
   ]
  },
  {
   "cell_type": "code",
   "execution_count": null,
   "id": "0dbce3dd",
   "metadata": {},
   "outputs": [],
   "source": [
    "myteam.pop(0)\n",
    "myteam"
   ]
  },
  {
   "cell_type": "markdown",
   "id": "2308814e",
   "metadata": {},
   "source": [
    "#set"
   ]
  },
  {
   "cell_type": "code",
   "execution_count": null,
   "id": "a95209c9",
   "metadata": {},
   "outputs": [],
   "source": [
    "unique = {'hassh','ishika','scooty'}\n",
    "uni = {'jack','rosy','joker'}"
   ]
  },
  {
   "cell_type": "code",
   "execution_count": null,
   "id": "2d2f60f5",
   "metadata": {},
   "outputs": [],
   "source": [
    "u = unique.union(unique)\n",
    "u"
   ]
  },
  {
   "cell_type": "code",
   "execution_count": null,
   "id": "3cca5036",
   "metadata": {},
   "outputs": [],
   "source": [
    "unique.intersection(unique)"
   ]
  },
  {
   "cell_type": "markdown",
   "id": "df3ba580",
   "metadata": {},
   "source": [
    "#dictionaries"
   ]
  },
  {
   "cell_type": "code",
   "execution_count": null,
   "id": "e1d6be56",
   "metadata": {},
   "outputs": [],
   "source": [
    "uni1 = {'hassh':908,'ishika':678,'scooty':2654}\n",
    "uni2 = {'jack':143,'rosy':123,'joker':'joker'}"
   ]
  },
  {
   "cell_type": "code",
   "execution_count": null,
   "id": "d085d4fe",
   "metadata": {},
   "outputs": [],
   "source": [
    "uni1.values()"
   ]
  },
  {
   "cell_type": "code",
   "execution_count": null,
   "id": "4a1bbb0b",
   "metadata": {},
   "outputs": [],
   "source": [
    "uni2.keys()"
   ]
  },
  {
   "cell_type": "code",
   "execution_count": null,
   "id": "fa580feb",
   "metadata": {},
   "outputs": [],
   "source": [
    "uni2.items()"
   ]
  },
  {
   "cell_type": "code",
   "execution_count": null,
   "id": "22bbf60d",
   "metadata": {},
   "outputs": [],
   "source": [
    "uni1.items()"
   ]
  },
  {
   "cell_type": "code",
   "execution_count": null,
   "id": "ee9219b4",
   "metadata": {},
   "outputs": [],
   "source": [
    "uni1,uni2"
   ]
  },
  {
   "cell_type": "code",
   "execution_count": null,
   "id": "91d37693",
   "metadata": {},
   "outputs": [],
   "source": [
    "uni2['jack'],uni1['hassh'],uni2['joker']"
   ]
  },
  {
   "cell_type": "code",
   "execution_count": null,
   "id": "cb22a57c",
   "metadata": {
    "scrolled": true
   },
   "outputs": [],
   "source": [
    "uni1 = {'hassh':908,'ishika':678,'scooty':2654}\n",
    "for key in uni1:\n",
    "    print(key, ':', uni1[key])"
   ]
  },
  {
   "cell_type": "markdown",
   "id": "5f5e49bd",
   "metadata": {},
   "source": [
    "# Conditional Statement"
   ]
  },
  {
   "cell_type": "code",
   "execution_count": null,
   "id": "6ec14047",
   "metadata": {},
   "outputs": [],
   "source": [
    "hi = 'Ashis'\n",
    "yuh = 'Arohie'\n",
    "n = 10\n",
    "m = 22\n",
    "if n == m:\n",
    "    print('its true',hi,'hi')\n",
    "elif (n < m) and (hi == yuh):\n",
    "    print('yes!',yuh)\n",
    "elif (n != m) & (hi == 'Ashis'):\n",
    "    print('all true,',hi,'and',yuh)\n",
    "else:\n",
    "    print('all conditions are wrong')"
   ]
  },
  {
   "cell_type": "code",
   "execution_count": null,
   "id": "11ecd5fc",
   "metadata": {},
   "outputs": [],
   "source": []
  },
  {
   "cell_type": "code",
   "execution_count": null,
   "id": "4dab85db",
   "metadata": {},
   "outputs": [],
   "source": []
  },
  {
   "cell_type": "code",
   "execution_count": null,
   "id": "48ca7c7a",
   "metadata": {},
   "outputs": [],
   "source": []
  },
  {
   "cell_type": "markdown",
   "id": "f7e50b7c",
   "metadata": {},
   "source": [
    "# Functions "
   ]
  },
  {
   "cell_type": "code",
   "execution_count": null,
   "id": "b1259fe0",
   "metadata": {},
   "outputs": [],
   "source": [
    "def shivani(marks):\n",
    "    return[90,76,100]\n",
    "\n",
    "subjects = shivani(['PHY','MATHS','MORAL'])\n",
    "print(subjects)"
   ]
  },
  {
   "cell_type": "code",
   "execution_count": null,
   "id": "66d55849",
   "metadata": {},
   "outputs": [],
   "source": []
  },
  {
   "cell_type": "code",
   "execution_count": null,
   "id": "32d54993",
   "metadata": {},
   "outputs": [],
   "source": [
    "def shivani(marks):\n",
    "    return[90,76,100]\n",
    "\n",
    "subjects = shivani(['PHY','MATHS','MORAL'])\n",
    "print(subjects)\n",
    "PHY = subjects[1]\n",
    "MATHS = subjects[2]\n",
    "MORAL = subjects[0]\n",
    "\n",
    "Total_Marks = 300\n",
    "Min_marks = 180\n",
    "\n",
    "if (Min_marks * MORAL <= Total_Marks):\n",
    "    print('she got good marks in moral science subject:',MORAL)\n",
    "elif (PHY * MATHS * MORAL > Total_Marks):\n",
    "    print('Making system is default')\n",
    "elif ( Min_marks - MATHS <= Total_Marks):\n",
    "    print('correct')\n",
    "else:\n",
    "    print('so sorry ...')\n",
    "    \n",
    "    \n",
    "passmarks= {'PHY':36,'MATHS':48,'MORAL':26}\n",
    "total = passmarks['PHY'] * PHY + passmarks['MORAL'] * MATHS + passmarks['MATHS'] * MORAL\n",
    "print(total)"
   ]
  },
  {
   "cell_type": "code",
   "execution_count": null,
   "id": "30b337fa",
   "metadata": {},
   "outputs": [],
   "source": [
    "i = 1\n",
    "while Min_marks * subjects[1] <= Total_Marks:\n",
    "    print('students:',i)\n",
    "    print('All students got A+ marks')\n",
    "    Total_Marks = Total_Marks - (Min_marks * subjects[1])\n",
    "    print('each subject got:',Min_marks,'Total_Marks:',Total_Marks)\n",
    "    i = i+1\n",
    "    \n",
    "    print('.....................')\n",
    "    "
   ]
  },
  {
   "cell_type": "markdown",
   "id": "5dd5b42a",
   "metadata": {},
   "source": [
    "# Numpy Arrays"
   ]
  },
  {
   "cell_type": "code",
   "execution_count": 2,
   "id": "c95f0921",
   "metadata": {},
   "outputs": [],
   "source": [
    "import numpy as np\n",
    "np.set_printoptions(formatter={'float_kind' : '{:.2f}'.format })"
   ]
  },
  {
   "cell_type": "code",
   "execution_count": null,
   "id": "4a37fc47",
   "metadata": {},
   "outputs": [],
   "source": [
    "#Creating Arrays\n",
    "h1 = [1,2,3]\n",
    "h2 = ([[2,3,4],[78,0,98],[5,1,9]])\n",
    "#print(type(np.array(h1)))\n",
    "np.array(h2)"
   ]
  },
  {
   "cell_type": "code",
   "execution_count": null,
   "id": "fe06aa36",
   "metadata": {},
   "outputs": [],
   "source": [
    "print(h1)\n",
    "print(type(h1))\n",
    "print(len(h1))\n",
    "print(h2)\n",
    "print(type(h2))\n",
    "print(len(h2))"
   ]
  },
  {
   "cell_type": "code",
   "execution_count": null,
   "id": "9aea8e2f",
   "metadata": {},
   "outputs": [],
   "source": [
    "h2 = ([[2,3,4],[78,0,98],[5,1,9]])\n",
    "h2 = np.array(h2)\n",
    "print(h2)\n",
    "h2.shape"
   ]
  },
  {
   "cell_type": "code",
   "execution_count": null,
   "id": "4ed27584",
   "metadata": {},
   "outputs": [],
   "source": [
    "h1.append(9)\n",
    "h1"
   ]
  },
  {
   "cell_type": "code",
   "execution_count": null,
   "id": "bedd7bf3",
   "metadata": {},
   "outputs": [],
   "source": [
    "h1.remove(2)\n",
    "h1"
   ]
  },
  {
   "cell_type": "code",
   "execution_count": null,
   "id": "4ff43426",
   "metadata": {},
   "outputs": [],
   "source": [
    "arr = np.empty((3,3))\n",
    "arr"
   ]
  },
  {
   "cell_type": "code",
   "execution_count": null,
   "id": "72006ab6",
   "metadata": {},
   "outputs": [],
   "source": [
    "arr = np.zeros((2,7))\n",
    "arr"
   ]
  },
  {
   "cell_type": "code",
   "execution_count": null,
   "id": "e458eefc",
   "metadata": {},
   "outputs": [],
   "source": [
    "arr = np.ones((3,2))\n",
    "arr"
   ]
  },
  {
   "cell_type": "code",
   "execution_count": null,
   "id": "780a4f03",
   "metadata": {},
   "outputs": [],
   "source": [
    "arr = np.full((2,3),4) , np.full((3,2),9)\n",
    "arr"
   ]
  },
  {
   "cell_type": "code",
   "execution_count": null,
   "id": "2718e9c8",
   "metadata": {},
   "outputs": [],
   "source": [
    "a = np.array([2,8,1,9,4,2])\n",
    "arr = np.full((6,6),a)\n",
    "arr"
   ]
  },
  {
   "cell_type": "markdown",
   "id": "afecd970",
   "metadata": {},
   "source": [
    "# To create a Numpy Array of 1000 Movie Id's starting from 1301"
   ]
  },
  {
   "cell_type": "code",
   "execution_count": 3,
   "id": "7fd44907",
   "metadata": {},
   "outputs": [
    {
     "name": "stdout",
     "output_type": "stream",
     "text": [
      "(1050,)\n",
      "1301\n",
      "1401\n",
      "[1301 1302 1303 1304 1305 1306 1307 1308 1309 1310 1311 1312 1313 1314\n",
      " 1315 1316 1317 1318 1319]\n"
     ]
    }
   ],
   "source": [
    "movie_Ids = np.arange(1301,2351)\n",
    "print(movie_Ids.shape)\n",
    "print(movie_Ids[0])\n",
    "print(movie_Ids[100])\n",
    "print(movie_Ids[:19])"
   ]
  },
  {
   "cell_type": "code",
   "execution_count": 4,
   "id": "351c2b1f",
   "metadata": {},
   "outputs": [],
   "source": [
    "import random\n",
    "#random.randint(0,NumMovies - 1)"
   ]
  },
  {
   "cell_type": "code",
   "execution_count": 9,
   "id": "7d53c125",
   "metadata": {
    "scrolled": true
   },
   "outputs": [
    {
     "name": "stdout",
     "output_type": "stream",
     "text": [
      "Num of movies rated by a users is: [-1 -1 -1 -1 -1 -1 -1 -1 -1 -1 -1 -1 -1 -1 -1 -1 -1 -1 -1 -1 -1 -1 -1 -1\n",
      " -1 -1 -1 -1 -1 -1 -1 -1 -1 -1 -1 -1 -1 -1 -1 -1 -1 -1 -1 -1 -1 -1 -1 -1\n",
      " -1 -1 -1 -1 -1 -1 -1 -1 -1 -1 -1 -1 -1 -1 -1 -1 -1 -1 -1 -1 -1 -1 -1 -1\n",
      " -1 -1 -1 -1 -1 -1 -1 -1 -1 -1 -1 -1 -1 -1 -1 -1 -1 -1 -1 -1 -1 -1 -1 -1\n",
      " -1 -1 -1 -1]\n",
      "Num of movies rated by this user is: 24\n",
      "Movies numbers that this user rates: [73, 38, 60, 18, 88, 10, 61, 1, 14, 76, 64, 39, 77, 90, 54, 84, 89, 6, 56, 0, 98, 41, 58, 70]\n",
      "random ratings of this user is: [ 0  8 -1 -1 -1 -1  3 -1 -1 -1  1 -1 -1 -1  3 -1 -1 -1  7 -1 -1 -1 -1 -1\n",
      " -1 -1 -1 -1 -1 -1 -1 -1 -1 -1 -1 -1 -1 -1  5  4 -1  1 -1 -1 -1 -1 -1 -1\n",
      " -1 -1 -1 -1 -1 -1  3 -1  5 -1  1 -1  3  2 -1 -1  7 -1 -1 -1 -1 -1  1 -1\n",
      " -1  8 -1 -1  2  5 -1 -1 -1 -1 -1 -1 10 -1 -1 -1  7  3  4 -1 -1 -1 -1 -1\n",
      " -1 -1  9 -1]\n"
     ]
    }
   ],
   "source": [
    "NumMovies = 100    #here we can keep 1000 numbers from 1301 //try it//\n",
    "movie_rated_by_user = np.full(NumMovies, -1) # we can use string also instead of -1\n",
    "print('Num of movies rated by a users is:', movie_rated_by_user)\n",
    "\n",
    "Num_of_movies_rated = random.randint(0,NumMovies - 1)\n",
    "print('Num of movies rated by this user is:',Num_of_movies_rated)\n",
    "\n",
    "movies_that_user_rated = random.sample(range(NumMovies),Num_of_movies_rated)\n",
    "print('Movies numbers that this user rates:',movies_that_user_rated)\n",
    "\n",
    "for i in movies_that_user_rated:\n",
    "    movie_rated_by_user[i] = random.randint(0,10)\n",
    "print('random ratings of this user is:',movie_rated_by_user)"
   ]
  },
  {
   "cell_type": "code",
   "execution_count": 10,
   "id": "8877c548",
   "metadata": {},
   "outputs": [
    {
     "data": {
      "text/plain": [
       "int"
      ]
     },
     "execution_count": 10,
     "metadata": {},
     "output_type": "execute_result"
    }
   ],
   "source": [
    "type(Num_of_movies_rated)"
   ]
  },
  {
   "cell_type": "code",
   "execution_count": 11,
   "id": "09fedad5",
   "metadata": {},
   "outputs": [],
   "source": [
    "def createmoviematrix(numusers, NumMovies):\n",
    "    movie_matrix = []\n",
    "    for user in range(numusers):\n",
    "        movie_rated_by_user = np.full(NumMovies, -1)\n",
    "        Num_of_movies_rated = random.randint(0,NumMovies - 1)\n",
    "        movies_that_user_rated = random.sample(range(NumMovies),Num_of_movies_rated)\n",
    "        for i in movies_that_user_rated:\n",
    "            movie_rated_by_user[i] = random.randint(0,10)\n",
    "            \n",
    "        movie_matrix.append(movie_rated_by_user)\n",
    "            \n",
    "    return movie_matrix"
   ]
  },
  {
   "cell_type": "code",
   "execution_count": 12,
   "id": "f6df9b9e",
   "metadata": {},
   "outputs": [
    {
     "name": "stdout",
     "output_type": "stream",
     "text": [
      "movie_matrix details:\n",
      "shape: (100, 1000)\n",
      "[[10  6 10 ...  2 10  5]\n",
      " [ 2  2 -1 ...  1  4 -1]\n",
      " [-1  5  9 ... -1  3 10]\n",
      " ...\n",
      " [-1 -1 -1 ... -1 -1  1]\n",
      " [-1 -1  4 ... -1  6 -1]\n",
      " [-1  5  0 ... -1 -1  5]]\n"
     ]
    }
   ],
   "source": [
    "nu = 100\n",
    "nm = 1000\n",
    "mymovie = createmoviematrix(nu,nm)\n",
    "movie_matrix = np.array(createmoviematrix(100,1000))\n",
    "print('movie_matrix details:')\n",
    "print('shape:',movie_matrix.shape)\n",
    "#print('type:',type(mymovie))\n",
    "#print('length:',len(mymovie))\n",
    "print(movie_matrix[:,:1000])"
   ]
  },
  {
   "cell_type": "code",
   "execution_count": 13,
   "id": "27e0229b",
   "metadata": {},
   "outputs": [
    {
     "name": "stdout",
     "output_type": "stream",
     "text": [
      "(10, 1000)\n"
     ]
    },
    {
     "data": {
      "text/plain": [
       "array([[10,  6,  9, -1, -1,  0,  2, -1, -1,  5,  9,  3, -1, -1, -1,  5,\n",
       "        -1, -1, 10, -1, -1, -1, -1,  4,  7],\n",
       "       [-1, -1,  7,  0,  8,  0,  5,  7,  3, -1,  0,  5,  4,  6,  9,  4,\n",
       "         1,  3, -1,  5,  3,  3, -1, -1,  6],\n",
       "       [ 5,  9,  8,  6, -1, -1, -1,  1, -1,  4, -1, -1, -1,  9, -1, -1,\n",
       "         7, -1,  7,  1, -1, -1, -1, -1,  0],\n",
       "       [-1, -1, -1, -1, -1, -1, -1, -1, -1, -1, -1, -1, -1, -1, -1, -1,\n",
       "        -1, -1, -1, -1, -1, -1, -1, -1, -1],\n",
       "       [ 6, -1,  3,  1,  3, -1,  1, -1,  5,  0,  1,  7,  3,  2,  8,  9,\n",
       "        10,  6,  8,  9,  6, -1,  2, 10,  0],\n",
       "       [-1, -1,  4, -1, -1, -1, -1, -1, -1, -1, -1,  1,  5, -1, -1, -1,\n",
       "        -1, -1, -1, -1,  0, -1,  5, -1, -1],\n",
       "       [ 1, -1, -1,  7, -1, -1, -1, -1, -1, -1,  5, 10,  0, -1, -1, -1,\n",
       "        -1, -1, -1, -1, -1,  1,  1,  8,  9],\n",
       "       [ 9,  3,  4,  0,  0, -1,  5,  6,  5,  9, 10,  0,  7,  1,  7,  3,\n",
       "         5,  2,  7,  7,  3,  2,  3,  3, 10],\n",
       "       [ 3, -1, 10, -1, -1,  0, -1,  5, -1, -1, -1, -1,  4, -1, -1, -1,\n",
       "         4, -1,  2,  6,  1, -1,  9,  1, -1],\n",
       "       [ 0,  9, -1,  9, -1, -1,  3, -1, -1, 10, -1,  1, -1, -1, -1, -1,\n",
       "         9, -1, -1,  8,  1, -1, -1, -1, -1]])"
      ]
     },
     "execution_count": 13,
     "metadata": {},
     "output_type": "execute_result"
    }
   ],
   "source": [
    "expert_matrix = np.array(createmoviematrix(10,1000))\n",
    "print(expert_matrix.shape)\n",
    "expert_matrix[:,70:95]\n",
    "#type(expert_matrix)\n",
    "#len(movie_matrix)"
   ]
  },
  {
   "cell_type": "code",
   "execution_count": 14,
   "id": "d204c1fc",
   "metadata": {},
   "outputs": [
    {
     "name": "stdout",
     "output_type": "stream",
     "text": [
      "(110, 1000)\n"
     ]
    }
   ],
   "source": [
    "movie_matrix = createmoviematrix(100,1000)\n",
    "expert_matrix = createmoviematrix(10,1000)\n",
    "movie_matrix = np.vstack([movie_matrix,expert_matrix])\n",
    "print(movie_matrix.shape)\n",
    "#expert_matrix.shape"
   ]
  },
  {
   "cell_type": "code",
   "execution_count": 15,
   "id": "110aa949",
   "metadata": {},
   "outputs": [
    {
     "name": "stdout",
     "output_type": "stream",
     "text": [
      "(110, 1050)\n"
     ]
    }
   ],
   "source": [
    "new_movie_matrix = createmoviematrix(110,50)\n",
    "movie_matrix = np.hstack([movie_matrix,new_movie_matrix])\n",
    "print(movie_matrix.shape)"
   ]
  },
  {
   "cell_type": "code",
   "execution_count": 16,
   "id": "65f8df6d",
   "metadata": {},
   "outputs": [
    {
     "data": {
      "text/plain": [
       "array([[-1, -1, -1, -1, -1, -1, 10, -1,  3, -1],\n",
       "       [-1,  3, -1, -1, -1,  9, -1,  1, -1, -1],\n",
       "       [ 3,  0,  4, -1,  1,  4,  1, -1,  0,  8],\n",
       "       [ 6,  5,  5,  6,  8,  3,  1,  1,  8,  6],\n",
       "       [-1, -1, -1, -1, -1, -1,  5, -1, -1, -1]])"
      ]
     },
     "execution_count": 16,
     "metadata": {},
     "output_type": "execute_result"
    }
   ],
   "source": [
    "movie_matrix[75:80,990:1000]"
   ]
  },
  {
   "cell_type": "code",
   "execution_count": 17,
   "id": "7917bcbd",
   "metadata": {},
   "outputs": [
    {
     "data": {
      "text/plain": [
       "(110, 1050)"
      ]
     },
     "execution_count": 17,
     "metadata": {},
     "output_type": "execute_result"
    }
   ],
   "source": [
    "movie_matrix.shape"
   ]
  },
  {
   "cell_type": "code",
   "execution_count": 18,
   "id": "37681d17",
   "metadata": {},
   "outputs": [
    {
     "data": {
      "text/plain": [
       "array([ 4,  3,  7, -1, -1, -1, -1,  3,  8, -1, -1,  4, -1,  3, -1, -1,  4,\n",
       "       -1,  3,  9, -1,  6,  8, -1, 10,  5,  3, -1, -1, -1,  3, -1,  0,  2,\n",
       "       -1,  5,  3,  2, -1,  5,  0, -1, -1,  8, -1,  5,  8, 10,  4, -1,  0,\n",
       "       -1,  4,  1, -1,  2,  1,  5, -1,  8,  9, -1, -1,  6, -1, -1,  8,  3,\n",
       "        5, -1, -1,  4, -1,  6,  5, -1,  5,  1,  1, -1, -1, -1, -1, 10, 10,\n",
       "        6,  6,  3, -1, -1,  1, -1,  1, -1, -1,  4, -1, -1,  6, -1, -1,  8,\n",
       "        1, -1,  3, -1, -1,  5, 10, -1])"
      ]
     },
     "execution_count": 18,
     "metadata": {},
     "output_type": "execute_result"
    }
   ],
   "source": [
    "i = 5\n",
    "m = movie_matrix[:,i]\n",
    "m"
   ]
  },
  {
   "cell_type": "code",
   "execution_count": 19,
   "id": "28696a29",
   "metadata": {},
   "outputs": [
    {
     "data": {
      "text/plain": [
       "array([ 4,  3,  7,  3,  8,  4,  3,  4,  3,  9,  6,  8, 10,  5,  3,  3,  0,\n",
       "        2,  5,  3,  2,  5,  0,  8,  5,  8, 10,  4,  0,  4,  1,  2,  1,  5,\n",
       "        8,  9,  6,  8,  3,  5,  4,  6,  5,  5,  1,  1, 10, 10,  6,  6,  3,\n",
       "        1,  1,  4,  6,  8,  1,  3,  5, 10])"
      ]
     },
     "execution_count": 19,
     "metadata": {},
     "output_type": "execute_result"
    }
   ],
   "source": [
    "m = m[m >= 0]\n",
    "m                      # movie ratings who doesn't gave // its removing condition//"
   ]
  },
  {
   "cell_type": "code",
   "execution_count": 20,
   "id": "df36a156",
   "metadata": {},
   "outputs": [
    {
     "name": "stdout",
     "output_type": "stream",
     "text": [
      "1306\n",
      "60\n",
      "4.716666666666667\n",
      "2.846586649929272\n"
     ]
    }
   ],
   "source": [
    "print(movie_Ids[i])\n",
    "print(m.size)\n",
    "print(m.mean())\n",
    "print(m.std())"
   ]
  },
  {
   "cell_type": "code",
   "execution_count": 21,
   "id": "ecc27acf",
   "metadata": {},
   "outputs": [],
   "source": [
    "movie_Ids = np.arange(1301,2351)   #1301 to 2351 are movie ids for 1050 \n",
    "movie_stats = []\n",
    "for i in range(1050):\n",
    "    m = movie_matrix[:,i]\n",
    "    m = m[m >= 0]\n",
    "    movie_stats.append([movie_Ids[i],m.mean(),m.size,m.std()])"
   ]
  },
  {
   "cell_type": "code",
   "execution_count": 22,
   "id": "44e0eddb",
   "metadata": {},
   "outputs": [
    {
     "data": {
      "text/plain": [
       "list"
      ]
     },
     "execution_count": 22,
     "metadata": {},
     "output_type": "execute_result"
    }
   ],
   "source": [
    "type(movie_stats)"
   ]
  },
  {
   "cell_type": "code",
   "execution_count": 23,
   "id": "de91c14f",
   "metadata": {},
   "outputs": [
    {
     "data": {
      "text/plain": [
       "[[1391, 5.379310344827586, 58, 3.3775505622030018],\n",
       " [1392, 4.52, 50, 3.054439392098],\n",
       " [1393, 6.388888888888889, 54, 2.6833965946074048],\n",
       " [1394, 4.882352941176471, 51, 3.1226375152910584],\n",
       " [1395, 4.551020408163265, 49, 3.476223757445485],\n",
       " [1396, 4.56, 50, 3.3296246034650814],\n",
       " [1397, 4.2592592592592595, 54, 2.8099372945763936],\n",
       " [1398, 5.490909090909091, 55, 3.044355296865614],\n",
       " [1399, 5.431034482758621, 58, 3.27009474167043],\n",
       " [1400, 4.543859649122807, 57, 3.061189858326772]]"
      ]
     },
     "execution_count": 23,
     "metadata": {},
     "output_type": "execute_result"
    }
   ],
   "source": [
    "movie_stats[90:100] \n",
    "#movie_stats"
   ]
  },
  {
   "cell_type": "code",
   "execution_count": 24,
   "id": "afa6732a",
   "metadata": {},
   "outputs": [
    {
     "name": "stdout",
     "output_type": "stream",
     "text": [
      "<class 'numpy.ndarray'>\n"
     ]
    },
    {
     "data": {
      "text/plain": [
       "(1050, 4)"
      ]
     },
     "execution_count": 24,
     "metadata": {},
     "output_type": "execute_result"
    }
   ],
   "source": [
    "movie_stats = np.array(movie_stats)\n",
    "print(type(movie_stats))\n",
    "movie_stats.shape"
   ]
  },
  {
   "cell_type": "code",
   "execution_count": 25,
   "id": "1f8fb2c3",
   "metadata": {},
   "outputs": [
    {
     "name": "stdout",
     "output_type": "stream",
     "text": [
      "42.0\n",
      "3.646256203889069\n"
     ]
    }
   ],
   "source": [
    "movie_stats[:,1]\n",
    "print(np.amin(movie_stats[:,2]))\n",
    "print(np.amax(movie_stats[:,3]))"
   ]
  },
  {
   "cell_type": "code",
   "execution_count": 26,
   "id": "2d55b14d",
   "metadata": {},
   "outputs": [
    {
     "name": "stdout",
     "output_type": "stream",
     "text": [
      "6.388888888888889 3.456140350877193\n",
      "2.932748538011696\n",
      "10\n"
     ]
    }
   ],
   "source": [
    "x = movie_stats[:,1]\n",
    "print(x.max(),x.min())\n",
    "old_range = x.max() - x.min()\n",
    "print(old_range)\n",
    "new_range = 10 - 0\n",
    "startOfNewRange = 0\n",
    "print(10 - 0)\n",
    "#print(80-30)"
   ]
  },
  {
   "cell_type": "code",
   "execution_count": 27,
   "id": "0e9820ac",
   "metadata": {},
   "outputs": [
    {
     "name": "stdout",
     "output_type": "stream",
     "text": [
      "movie0 old rating: 4.758620689655173\n",
      "movie0 new rating: 4.441159280778354\n"
     ]
    }
   ],
   "source": [
    "movie0_rating = movie_stats[0,1]\n",
    "print('movie0 old rating:',movie0_rating)\n",
    "newrating = ((movie0_rating - x.min()) * (new_range / old_range) + startOfNewRange)\n",
    "print('movie0 new rating:',newrating)"
   ]
  },
  {
   "cell_type": "code",
   "execution_count": 28,
   "id": "60736b76",
   "metadata": {},
   "outputs": [
    {
     "name": "stdout",
     "output_type": "stream",
     "text": [
      "[[1301.00 4.76 58.00 3.15]\n",
      " [1302.00 5.46 52.00 3.39]\n",
      " [1303.00 4.94 53.00 2.94]\n",
      " [1304.00 4.40 57.00 2.91]\n",
      " [1305.00 4.61 51.00 3.02]]\n",
      "6.388888888888889 3.456140350877193\n"
     ]
    }
   ],
   "source": [
    "print(movie_stats[0:5])\n",
    "x = movie_stats[:,1]\n",
    "print(x.max(),x.min())\n",
    "old_range = x.max() - x.min()\n",
    "startOfNewRange = 0\n",
    "endOfNewRange = 10\n",
    "new_range = endOfNewRange - startOfNewRange\n",
    "movie_stats[:,1] = ((x - x.min()) * (new_range/old_range) + startOfNewRange)"
   ]
  },
  {
   "cell_type": "code",
   "execution_count": 29,
   "id": "a0cdec31",
   "metadata": {},
   "outputs": [
    {
     "name": "stdout",
     "output_type": "stream",
     "text": [
      "original array: [812  43  90 190   5]\n"
     ]
    },
    {
     "data": {
      "text/plain": [
       "array([43,  5])"
      ]
     },
     "execution_count": 29,
     "metadata": {},
     "output_type": "execute_result"
    }
   ],
   "source": [
    "a = np.array([812,43,90,190,5])\n",
    "print('original array:', a)\n",
    "a[[1,4]]"
   ]
  },
  {
   "cell_type": "code",
   "execution_count": 30,
   "id": "9786f32c",
   "metadata": {},
   "outputs": [
    {
     "data": {
      "text/plain": [
       "array([  5,  43,  90, 190, 812])"
      ]
     },
     "execution_count": 30,
     "metadata": {},
     "output_type": "execute_result"
    }
   ],
   "source": [
    "sortedindexes = np.argsort(a)\n",
    "sortedindexes\n",
    "a[sortedindexes]      # it says that the position of indexes"
   ]
  },
  {
   "cell_type": "code",
   "execution_count": 31,
   "id": "6b3c109f",
   "metadata": {},
   "outputs": [
    {
     "data": {
      "text/plain": [
       "array([[1648.00, 0.00, 57.00, 2.91],\n",
       "       [1411.00, 0.83, 53.00, 2.93],\n",
       "       [1808.00, 1.19, 51.00, 3.12],\n",
       "       ...,\n",
       "       [1578.00, 9.45, 57.00, 2.66],\n",
       "       [1652.00, 9.72, 49.00, 2.99],\n",
       "       [1393.00, 10.00, 54.00, 2.68]])"
      ]
     },
     "execution_count": 31,
     "metadata": {},
     "output_type": "execute_result"
    }
   ],
   "source": [
    "ratings = movie_stats[:,1]\n",
    "ratings_sorted_indexes = ratings.argsort()\n",
    "movie_stats_sorted = movie_stats[ratings_sorted_indexes]\n",
    "movie_stats_sorted"
   ]
  },
  {
   "cell_type": "code",
   "execution_count": 32,
   "id": "99d795d0",
   "metadata": {},
   "outputs": [
    {
     "data": {
      "text/plain": [
       "array([[1301.00, 4.44, 58.00, 3.15],\n",
       "       [1302.00, 6.84, 52.00, 3.39],\n",
       "       [1303.00, 5.07, 53.00, 2.94],\n",
       "       [1304.00, 3.23, 57.00, 2.91],\n",
       "       [1305.00, 3.93, 51.00, 3.02],\n",
       "       [1306.00, 4.30, 60.00, 2.85],\n",
       "       [1307.00, 3.84, 60.00, 3.02],\n",
       "       [1308.00, 5.55, 59.00, 3.23],\n",
       "       [1309.00, 5.39, 54.00, 2.87],\n",
       "       [1310.00, 5.13, 51.00, 3.44]])"
      ]
     },
     "execution_count": 32,
     "metadata": {},
     "output_type": "execute_result"
    }
   ],
   "source": [
    "movie_stats[0:10] "
   ]
  },
  {
   "cell_type": "code",
   "execution_count": 33,
   "id": "12618b44",
   "metadata": {},
   "outputs": [
    {
     "data": {
      "text/plain": [
       "array([[1321.00, 3.40, 55.00, 3.17],\n",
       "       [1322.00, 5.06, 51.00, 3.23],\n",
       "       [1323.00, 4.69, 53.00, 3.19],\n",
       "       [1324.00, 4.30, 60.00, 3.04],\n",
       "       [1325.00, 8.23, 46.00, 2.94],\n",
       "       [1326.00, 5.33, 52.00, 3.26],\n",
       "       [1327.00, 4.48, 48.00, 2.95],\n",
       "       [1328.00, 6.68, 58.00, 3.10],\n",
       "       [1329.00, 6.14, 62.00, 3.04],\n",
       "       [1330.00, 4.74, 58.00, 3.60]])"
      ]
     },
     "execution_count": 33,
     "metadata": {},
     "output_type": "execute_result"
    }
   ],
   "source": [
    "movie_stats[20:30]    # No. of people ,rating,how many people rated,stddeviation"
   ]
  },
  {
   "cell_type": "code",
   "execution_count": 36,
   "id": "aecb3f17",
   "metadata": {},
   "outputs": [
    {
     "name": "stdout",
     "output_type": "stream",
     "text": [
      "[4.44 6.84 5.07 ... 3.25 4.22 4.77]\n",
      "[347 110 507 ... 277 351  92]\n"
     ]
    }
   ],
   "source": [
    "ratings = movie_stats[:,1]\n",
    "ratings_sorted_indexes = ratings.argsort()\n",
    "print(ratings)\n",
    "print(ratings_sorted_indexes)"
   ]
  },
  {
   "cell_type": "code",
   "execution_count": 37,
   "id": "6fb7ee5b",
   "metadata": {},
   "outputs": [
    {
     "data": {
      "text/plain": [
       "array([[1648.00, 0.00, 57.00, 2.91],\n",
       "       [1411.00, 0.83, 53.00, 2.93],\n",
       "       [1808.00, 1.19, 51.00, 3.12],\n",
       "       ...,\n",
       "       [1578.00, 9.45, 57.00, 2.66],\n",
       "       [1652.00, 9.72, 49.00, 2.99],\n",
       "       [1393.00, 10.00, 54.00, 2.68]])"
      ]
     },
     "execution_count": 37,
     "metadata": {},
     "output_type": "execute_result"
    }
   ],
   "source": [
    "ratings = movie_stats[:,1]\n",
    "ratings_sorted_indexes = ratings.argsort()\n",
    "movie_stats_sorted = movie_stats[ratings_sorted_indexes]\n",
    "movie_stats_sorted"
   ]
  },
  {
   "cell_type": "code",
   "execution_count": 41,
   "id": "d05ac1ce",
   "metadata": {},
   "outputs": [
    {
     "data": {
      "text/plain": [
       "array([ 92, 351, 277, ..., 507, 110, 347], dtype=int64)"
      ]
     },
     "execution_count": 41,
     "metadata": {},
     "output_type": "execute_result"
    }
   ],
   "source": [
    "rating = movie_stats[:,1]\n",
    "ratings_sorted_indexes = ratings.argsort()[::-1]     #give in reverse //descending order//\n",
    "ratings_sorted_indexes"
   ]
  },
  {
   "cell_type": "code",
   "execution_count": 44,
   "id": "601b88c3",
   "metadata": {},
   "outputs": [
    {
     "data": {
      "text/plain": [
       "1.1858542020995826"
      ]
     },
     "execution_count": 44,
     "metadata": {},
     "output_type": "execute_result"
    }
   ],
   "source": [
    "movie_stats_sorted[2,1]"
   ]
  },
  {
   "cell_type": "code",
   "execution_count": 45,
   "id": "1a8c2104",
   "metadata": {},
   "outputs": [
    {
     "data": {
      "text/plain": [
       "array([[1393.00, 10.00, 54.00, 2.68],\n",
       "       [1652.00, 9.72, 49.00, 2.99],\n",
       "       [1578.00, 9.45, 57.00, 2.66],\n",
       "       ...,\n",
       "       [1808.00, 1.19, 51.00, 3.12],\n",
       "       [1411.00, 0.83, 53.00, 2.93],\n",
       "       [1648.00, 0.00, 57.00, 2.91]])"
      ]
     },
     "execution_count": 45,
     "metadata": {},
     "output_type": "execute_result"
    }
   ],
   "source": [
    "movie_stats_sorted = movie_stats[ratings_sorted_indexes]\n",
    "movie_stats_sorted\n"
   ]
  },
  {
   "cell_type": "markdown",
   "id": "40beb67e",
   "metadata": {},
   "source": [
    "# save array to a csv file and read array from a csv file"
   ]
  },
  {
   "cell_type": "code",
   "execution_count": null,
   "id": "a5474bc2",
   "metadata": {},
   "outputs": [],
   "source": []
  },
  {
   "cell_type": "code",
   "execution_count": null,
   "id": "994c65cd",
   "metadata": {},
   "outputs": [],
   "source": []
  },
  {
   "cell_type": "code",
   "execution_count": null,
   "id": "e1ff9628",
   "metadata": {},
   "outputs": [],
   "source": []
  },
  {
   "cell_type": "code",
   "execution_count": null,
   "id": "6e9a70ed",
   "metadata": {},
   "outputs": [],
   "source": []
  },
  {
   "cell_type": "markdown",
   "id": "5c242c55",
   "metadata": {},
   "source": [
    "Statistical Functions in Numpy"
   ]
  },
  {
   "cell_type": "code",
   "execution_count": null,
   "id": "05cfc87f",
   "metadata": {},
   "outputs": [],
   "source": [
    "a = np.array([[7,1,4],[5,0,3],[0,6,8],[6,9,69]])\n",
    "a"
   ]
  },
  {
   "cell_type": "code",
   "execution_count": null,
   "id": "a5dc785f",
   "metadata": {},
   "outputs": [],
   "source": [
    "np.amin(a)\n",
    "np.amin(a,1)"
   ]
  },
  {
   "cell_type": "code",
   "execution_count": null,
   "id": "8f3e197b",
   "metadata": {},
   "outputs": [],
   "source": [
    "np.amax(a)"
   ]
  },
  {
   "cell_type": "code",
   "execution_count": null,
   "id": "5f79aac6",
   "metadata": {},
   "outputs": [],
   "source": [
    "np.amax(a,0)[2]   #//axis// axis = 1 means row, axis = 0 means coloumn// "
   ]
  },
  {
   "cell_type": "code",
   "execution_count": null,
   "id": "cee3ba95",
   "metadata": {},
   "outputs": [],
   "source": [
    "a.mean(),a.std()"
   ]
  },
  {
   "cell_type": "code",
   "execution_count": null,
   "id": "71d108bb",
   "metadata": {},
   "outputs": [],
   "source": [
    "a.argmax(0)"
   ]
  },
  {
   "cell_type": "code",
   "execution_count": null,
   "id": "7d1f5982",
   "metadata": {},
   "outputs": [],
   "source": [
    "round(a.mean(),2)"
   ]
  },
  {
   "cell_type": "code",
   "execution_count": null,
   "id": "9679ad73",
   "metadata": {},
   "outputs": [],
   "source": [
    "#dir(np)"
   ]
  },
  {
   "cell_type": "code",
   "execution_count": null,
   "id": "7db275d8",
   "metadata": {},
   "outputs": [],
   "source": [
    "#help(np)"
   ]
  },
  {
   "cell_type": "code",
   "execution_count": null,
   "id": "e9485a83",
   "metadata": {},
   "outputs": [],
   "source": [
    "len(dir(np))"
   ]
  },
  {
   "cell_type": "code",
   "execution_count": 1,
   "id": "43d050b8",
   "metadata": {},
   "outputs": [],
   "source": [
    "import numpy as np"
   ]
  },
  {
   "cell_type": "code",
   "execution_count": 2,
   "id": "c32f6b2a",
   "metadata": {},
   "outputs": [],
   "source": [
    "import random "
   ]
  },
  {
   "cell_type": "code",
   "execution_count": 3,
   "id": "4336f0f1",
   "metadata": {},
   "outputs": [],
   "source": [
    "import pandas as pd"
   ]
  },
  {
   "cell_type": "code",
   "execution_count": 26,
   "id": "f9b35b73",
   "metadata": {},
   "outputs": [],
   "source": [
    "s = 'a is a in the a'"
   ]
  },
  {
   "cell_type": "code",
   "execution_count": 25,
   "id": "ae0fc167",
   "metadata": {},
   "outputs": [
    {
     "name": "stdout",
     "output_type": "stream",
     "text": [
      "0\n",
      "0\n",
      "0\n",
      "0\n",
      "0\n",
      "0\n",
      "0\n",
      "0\n",
      "0\n",
      "0\n",
      "0\n",
      "0\n",
      "0\n",
      "0\n",
      "0\n"
     ]
    }
   ],
   "source": [
    "for i in s:\n",
    "    print(s.index('a'))\n",
    "    \n",
    "    "
   ]
  },
  {
   "cell_type": "code",
   "execution_count": 18,
   "id": "4550c8b7",
   "metadata": {},
   "outputs": [
    {
     "name": "stdout",
     "output_type": "stream",
     "text": [
      "0\n"
     ]
    }
   ],
   "source": [
    "print(s.index('a'))\n"
   ]
  },
  {
   "cell_type": "code",
   "execution_count": 39,
   "id": "b3b6c3f8",
   "metadata": {},
   "outputs": [
    {
     "name": "stdout",
     "output_type": "stream",
     "text": [
      "0\n",
      "-5\n",
      "-14\n"
     ]
    }
   ],
   "source": [
    "j = 1\n",
    "for i in s:\n",
    "    j = j-1\n",
    "    \n",
    "    if i =='a':\n",
    "        print(j)\n",
    "    "
   ]
  },
  {
   "cell_type": "code",
   "execution_count": null,
   "id": "bdea9093",
   "metadata": {},
   "outputs": [],
   "source": [
    "\n",
    "\n"
   ]
  }
 ],
 "metadata": {
  "kernelspec": {
   "display_name": "Python 3 (ipykernel)",
   "language": "python",
   "name": "python3"
  },
  "language_info": {
   "codemirror_mode": {
    "name": "ipython",
    "version": 3
   },
   "file_extension": ".py",
   "mimetype": "text/x-python",
   "name": "python",
   "nbconvert_exporter": "python",
   "pygments_lexer": "ipython3",
   "version": "3.8.12"
  }
 },
 "nbformat": 4,
 "nbformat_minor": 5
}
